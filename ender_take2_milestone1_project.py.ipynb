{
 "cells": [
  {
   "cell_type": "code",
   "execution_count": null,
   "id": "84928def",
   "metadata": {},
   "outputs": [],
   "source": [
    "'''\n",
    "hinterland.exclude_regexp\n",
    "\n",
    "\n",
    "Your assignment: Create a Tic Tac Toe game. You are free to use any IDE you like.\n",
    "\n",
    "Here are the requirements:\n",
    "\n",
    "2 players should be able to play the game (both sitting at the same computer)\n",
    "The board should be printed out every time a player makes a move\n",
    "You should be able to accept input of the player position and then place a symbol on the board\n",
    "Feel free to use Google to help you figure anything out (but don't just Google \"Tic Tac Toe in Python\" otherwise you won't learn anything!) Keep in mind that this project can take anywhere between several hours to several days.\n",
    "\n",
    "There are 4 Jupyter Notebooks related to this assignment:\n",
    "\n",
    "This Assignment Notebook\n",
    "A \"Walkthrough Steps Workbook\" Notebook\n",
    "A \"Complete Walkthrough Solution\" Notebook\n",
    "An \"Advanced Solution\" Notebook\n",
    "\n",
    "'''\n"
   ]
  },
  {
   "cell_type": "code",
   "execution_count": null,
   "id": "59a340e1-568c-4122-aa37-60eecc6d6179",
   "metadata": {},
   "outputs": [
    {
     "name": "stdin",
     "output_type": "stream",
     "text": [
      "Player 1: Enter your name:   Gary\n"
     ]
    },
    {
     "name": "stdout",
     "output_type": "stream",
     "text": [
      "Player 1 has been registered: Gary\n"
     ]
    },
    {
     "name": "stdin",
     "output_type": "stream",
     "text": [
      "Player 2: Enter your name:   Diane\n"
     ]
    },
    {
     "name": "stdout",
     "output_type": "stream",
     "text": [
      "Player 2 has been registered: Diane\n",
      "_1_| _2_ |_3_\n",
      "_4_| _5_ |_6_\n",
      " 7 |  8  | 9 \n",
      "\n",
      "The rules are as followed.\n",
      "To win you must get 3 X's or O's in a row. \n",
      "That includes horizontally(ex. box 1, box 2, box 3), vertically(ex. box 1, box 4, box 7),\n",
      "and across the center on angles(ex. box 1, box 5, box 9).\n",
      "~~~~~~~~~~~~~~~~~~~~~~~~~~~~~~~~~~~~~~~~\n",
      "Player 1, you are X. Player 2, you are O\n",
      "Let's clear the board and begin the game\n",
      "\n",
      "_1_| _2_ |_3_\n",
      "_4_| _5_ |_6_\n",
      " 7 |  8  | 9 \n"
     ]
    },
    {
     "name": "stdin",
     "output_type": "stream",
     "text": [
      "Gary Pick a number to place your 'X':    1\n"
     ]
    },
    {
     "name": "stdout",
     "output_type": "stream",
     "text": [
      "Gary has selected box 1.\n",
      "_X_| _2_ |_3_\n",
      "_4_| _5_ |_6_\n",
      " 7 |  8  | 9 \n"
     ]
    },
    {
     "name": "stdin",
     "output_type": "stream",
     "text": [
      "Diane Pick a number to place your 'O':    7\n"
     ]
    },
    {
     "name": "stdout",
     "output_type": "stream",
     "text": [
      "Diane has selected box 7.\n",
      "_X_| _2_ |_3_\n",
      "_4_| _5_ |_6_\n",
      " O |  8  | 9 \n"
     ]
    },
    {
     "name": "stdin",
     "output_type": "stream",
     "text": [
      "Gary Pick a number to place your 'X':    2\n"
     ]
    },
    {
     "name": "stdout",
     "output_type": "stream",
     "text": [
      "Gary has selected box 2.\n",
      "_X_| _X_ |_3_\n",
      "_4_| _5_ |_6_\n",
      " O |  8  | 9 \n"
     ]
    },
    {
     "name": "stdin",
     "output_type": "stream",
     "text": [
      "Diane Pick a number to place your 'O':    8\n"
     ]
    },
    {
     "name": "stdout",
     "output_type": "stream",
     "text": [
      "Diane has selected box 8.\n",
      "_X_| _X_ |_3_\n",
      "_4_| _5_ |_6_\n",
      " O |  O  | 9 \n"
     ]
    },
    {
     "name": "stdin",
     "output_type": "stream",
     "text": [
      "Gary Pick a number to place your 'X':    3\n"
     ]
    },
    {
     "name": "stdout",
     "output_type": "stream",
     "text": [
      "Gary has selected box 3.\n",
      "_X_| _X_ |_X_\n",
      "_4_| _5_ |_6_\n",
      " O |  O  | 9 \n",
      "Gary is the winner!\n"
     ]
    }
   ],
   "source": [
    "import re\n",
    "#name input and validation\n",
    "while True:\n",
    "    player1= input(\"Player 1: Enter your name:  \")\n",
    "    if player1.isalpha() and len(player1) >= 1:\n",
    "        print(f\"Player 1 has been registered: {player1}\")\n",
    "        break\n",
    "    else:\n",
    "        print(\"Please enter a valid name using one or more letters\")\n",
    "while True:\n",
    "    player2 = input(\"Player 2: Enter your name:  \")\n",
    "    if player2.isalpha() and len(player1) >= 1:\n",
    "        print(f\"Player 2 has been registered: {player2}\")\n",
    "        break\n",
    "    else:\n",
    "        print(\"Please enter a valid name using one or more letters\")\n",
    "#board configuration and number assignments\n",
    "board_grid = {1:\"_1_|\", 2:\"_2_\", 3:\"|_3_\",\n",
    "4:\"_4_|\", 5:\"_5_\", 6:\"|_6_\",\n",
    "7:\" 7 |\", 8:\" 8 \", 9:\"| 9 \"}\n",
    "for key in board_grid:\n",
    "    print(board_grid[1], board_grid[2], board_grid[3])\n",
    "    print(board_grid[4], board_grid[5], board_grid[6])\n",
    "    print(board_grid[7], board_grid[8], board_grid[9])\n",
    "    break\n",
    "x_keys = [\"null\", \"_X_|\", \"_X_\",\"|_X_\",\"_X_|\",\"_X_\",\"|_X_\",\" X |\",\" X \",\"| X \"]\n",
    "o_keys = [\"null\", \"_O_|\", \"_O_\",\"|_O_\",\"_O_|\",\"_O_\",\"|_O_\",\" O |\",\" O \",\"| O \"]\n",
    "#setting rules for winning\n",
    "print(\"\"\"\n",
    "The rules are as followed.\n",
    "To win you must get 3 X's or O's in a row. \n",
    "That includes horizontally(ex. box 1, box 2, box 3), vertically(ex. box 1, box 4, box 7),\n",
    "and across the center on angles(ex. box 1, box 5, box 9).\n",
    "~~~~~~~~~~~~~~~~~~~~~~~~~~~~~~~~~~~~~~~~\n",
    "Player 1, you are X. Player 2, you are O\n",
    "Let's clear the board and begin the game\n",
    "\"\"\")\n",
    "#game code configuration\n",
    "def tic_tac_toe_board(board_grid):\n",
    "    player_turns = [1,2,3,4,5,6,7,8,9]\n",
    "    index = 0\n",
    "    x_keys = [\"null\", \"_X_|\", \"_X_\",\"|_X_\",\"_X_|\",\"_X_\",\"|_X_\",\" X |\",\" X \",\"| X \"]\n",
    "    o_keys = [\"null\", \"_O_|\", \"_O_\",\"|_O_\",\"_O_|\",\"_O_\",\"|_O_\",\" O |\",\" O \",\"| O \"]\n",
    "    for key in board_grid:\n",
    "        print(board_grid[1], board_grid[2], board_grid[3])\n",
    "        print(board_grid[4], board_grid[5], board_grid[6])\n",
    "        print(board_grid[7], board_grid[8], board_grid[9])\n",
    "        break\n",
    "    for turns in player_turns:\n",
    "        while player1:\n",
    "            if winning_player(board_grid) is True:\n",
    "                break\n",
    "            choice=int(input(f\"{player1} Pick a number to place your 'X':   \"))\n",
    "            if choice in board_grid:\n",
    "                print(f\"{player1} has selected box {choice}.\")\n",
    "                board_grid[choice] = x_keys[choice]\n",
    "                player_turns[index+1]\n",
    "                for key in board_grid:\n",
    "                    print(board_grid[1], board_grid[2], board_grid[3])\n",
    "                    print(board_grid[4], board_grid[5], board_grid[6])\n",
    "                    print(board_grid[7], board_grid[8], board_grid[9])\n",
    "                    break\n",
    "                break\n",
    "            else:\n",
    "                print(\"Please select an open box number from the board.\")\n",
    "        while player2:\n",
    "            if winning_player(board_grid) is True:\n",
    "                break\n",
    "            choice=int(input(f\"{player2} Pick a number to place your 'O':   \"))\n",
    "            if choice in board_grid:\n",
    "                print(f\"{player2} has selected box {choice}.\")\n",
    "                board_grid[choice] = o_keys[choice]\n",
    "                player_turns[index+1]\n",
    "                for key in board_grid:\n",
    "                    print(board_grid[1], board_grid[2], board_grid[3])\n",
    "                    print(board_grid[4], board_grid[5], board_grid[6])\n",
    "                    print(board_grid[7], board_grid[8], board_grid[9])\n",
    "                    break\n",
    "                break\n",
    "            else:\n",
    "                print(\"Please select an open box number from the board.\")\n",
    "#determins winner\n",
    "def winning_player(board_grid):\n",
    "    if x_keys[1] == board_grid[1] and x_keys[2] == board_grid[2] and x_keys[3] == board_grid[3]:\n",
    "        print(f\"{player1} is the winner!\")\n",
    "    elif x_keys[4] == board_grid[4] and x_keys[5] == board_grid[5] and x_keys[6] == board_grid[6]:\n",
    "        print( f\"{player1} is the winner!\")\n",
    "    elif x_keys[7] == board_grid[7] and x_keys[8] == board_grid[8] and x_keys[9] == board_grid[9]:\n",
    "        print(f\"{player1} is the winner!\")\n",
    "    elif x_keys[1] == board_grid[1] and x_keys[5] == board_grid[5] and x_keys[9] == board_grid[9]:\n",
    "        print(f\"{player1} is the winner!\")\n",
    "    elif x_keys[3] == board_grid[3] and x_keys[5] == board_grid[5] and x_keys[7] == board_grid[7]:\n",
    "        print(f\"{player1} is the winner!\")\n",
    "    elif x_keys[1] == board_grid[1] and x_keys[4] == board_grid[4] and x_keys[7] == board_grid[7]:\n",
    "        print(f\"{player1} is the winner!\")\n",
    "    elif x_keys[2] == board_grid[2] and x_keys[5] == board_grid[5] and x_keys[8] == board_grid[8]:\n",
    "        print(f\"{player1} is the winner!\")\n",
    "    elif x_keys[3] == board_grid[3] and x_keys[6] == board_grid[6] and x_keys[9] == board_grid[9]:\n",
    "        print(f\"{player1} is the winner!\")\n",
    "    elif o_keys[1] == board_grid[1] and o_keys[4] == board_grid[4] and o_keys[7] == board_grid[7]:\n",
    "        print(f\"{player2} is the winner!\")\n",
    "    elif o_keys[2] == board_grid[2] and o_keys[5] == board_grid[5] and o_keys[8] == board_grid[8]:\n",
    "        print(f\"{player2} is the winner!\")\n",
    "    elif o_keys[3] == board_grid[3] and o_keys[6] == board_grid[6] and o_keys[9] == board_grid[9]:\n",
    "        print(f\"{player2} is the winner!\")\n",
    "    elif o_keys[1] == board_grid[1] and o_keys[2] == board_grid[2] and o_keys[3] == board_grid[3]:\n",
    "        print(f\"{player2} is the winner!\")\n",
    "    elif o_keys[4] == board_grid[4] and o_keys[5] == board_grid[5] and o_keys[6] == board_grid[6]:\n",
    "        print(f\"{player2} is the winner!\")\n",
    "    elif o_keys[7] == board_grid[7] and o_keys[8] == board_grid[8] and o_keys[9] == board_grid[9]:\n",
    "        print(f\"{player2} is the winner!\")\n",
    "    elif o_keys[1] == board_grid[1] and o_keys[5] == board_grid[5] and o_keys[9] == board_grid[9]:\n",
    "        print(f\"{player2} is the winner!\")\n",
    "    elif o_keys[3] == board_grid[3] and o_keys[5] == board_grid[5] and o_keys[7] == board_grid[7]:\n",
    "        print(f\"{player2} is the winner!\")\n",
    "\n",
    "#run code\n",
    "tic_tac_toe_board(board_grid)"
   ]
  },
  {
   "cell_type": "code",
   "execution_count": null,
   "id": "541be648-8320-4c06-82f8-be8cde747126",
   "metadata": {},
   "outputs": [],
   "source": []
  },
  {
   "cell_type": "code",
   "execution_count": null,
   "id": "e178feb8-df50-4971-9c21-38ca8e803116",
   "metadata": {},
   "outputs": [],
   "source": []
  }
 ],
 "metadata": {
  "kernelspec": {
   "display_name": "Python 3 (ipykernel)",
   "language": "python",
   "name": "python3"
  },
  "language_info": {
   "codemirror_mode": {
    "name": "ipython",
    "version": 3
   },
   "file_extension": ".py",
   "mimetype": "text/x-python",
   "name": "python",
   "nbconvert_exporter": "python",
   "pygments_lexer": "ipython3",
   "version": "3.11.8"
  }
 },
 "nbformat": 4,
 "nbformat_minor": 5
}
